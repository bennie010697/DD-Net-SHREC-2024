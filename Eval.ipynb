{
 "cells": [
  {
   "cell_type": "code",
   "execution_count": 1,
   "metadata": {},
   "outputs": [],
   "source": [
    "from sklearn.metrics import classification_report\n",
    "from sklearn.metrics import accuracy_score"
   ]
  },
  {
   "cell_type": "code",
   "execution_count": 51,
   "metadata": {},
   "outputs": [],
   "source": [
    "pred = []\n",
    "\n",
    "#read results file 1.\n",
    "with open('./Results_Participants_folds/256Filters_32Frames_fold1.txt') as f:\n",
    "    pred.extend([line.rstrip().split(' ')[1] for line in f])\n",
    "\n",
    "\n",
    "#read results file 2.\n",
    "with open('./Results_Participants_folds/256Filters_32Frames_fold2.txt') as f:\n",
    "    pred.extend([line.rstrip().split(' ')[1] for line in f])\n",
    "\n",
    "#read results file 3.\n",
    "with open('./Results_Participants_folds/256Filters_32Frames_fold3.txt') as f:\n",
    "    pred.extend([line.rstrip().split(' ')[1] for line in f])\n",
    "\n",
    "\n",
    "#read results file 4.\n",
    "with open('./Results_Participants_folds/256Filters_32Frames_fold4.txt') as f:\n",
    "    pred.extend([line.rstrip().split(' ')[1] for line in f])\n",
    "\n",
    "\n",
    "y_true = []\n",
    "\n",
    "#read true labels 1.\n",
    "with open('./Results_Participants_folds/Y_true_fold1.txt') as f:\n",
    "    y_true.extend([line.rstrip().split(' ')[1] for line in f])\n",
    "\n",
    "#read true labels 2.\n",
    "with open('./Results_Participants_folds/Y_true_fold2.txt') as f:\n",
    "    y_true.extend([line.rstrip().split(' ')[1] for line in f])\n",
    "\n",
    "#read true labels 3.\n",
    "with open('./Results_Participants_folds/Y_true_fold3.txt') as f:\n",
    "    y_true.extend([line.rstrip().split(' ')[1] for line in f])\n",
    "\n",
    "#read true labels 4.\n",
    "with open('./Results_Participants_folds/Y_true_fold4.txt') as f:\n",
    "    y_true.extend([line.rstrip().split(' ')[1] for line in f])\n",
    "\n",
    "#class names\n",
    "CLabels = ['Centering','MakingHole','Pressing','Raising','Smoothing','Sponge','Tightening']"
   ]
  },
  {
   "cell_type": "code",
   "execution_count": 52,
   "metadata": {},
   "outputs": [
    {
     "name": "stdout",
     "output_type": "stream",
     "text": [
      "['Centering', 'Smoothing', 'MakingHole', 'Pressing', 'Pressing', 'Pressing', 'Sponge', 'Pressing', 'Raising', 'Raising', 'Smoothing', 'Pressing', 'Sponge', 'Sponge', 'Tightening', 'Centering', 'Raising', 'MakingHole', 'MakingHole', 'Pressing', 'Pressing', 'Raising', 'Raising', 'Smoothing', 'Raising', 'Smoothing', 'Smoothing', 'Smoothing', 'Sponge', 'Tightening', 'Centering', 'Centering', 'Centering', 'Centering', 'Centering', 'MakingHole', 'Pressing', 'Centering', 'Raising', 'Raising', 'Centering', 'Sponge', 'Sponge', 'Sponge', 'Tightening', 'Centering', 'Raising', 'Centering', 'Centering', 'Centering', 'Centering', 'MakingHole', 'Pressing', 'Smoothing', 'Raising', 'Smoothing', 'Smoothing', 'Sponge', 'Centering', 'Pressing']\n",
      "['Centering', 'Centering', 'MakingHole', 'Pressing', 'Pressing', 'Pressing', 'Pressing', 'Pressing', 'Raising', 'Smoothing', 'Smoothing', 'Smoothing', 'Sponge', 'Sponge', 'Tightening', 'Centering', 'MakingHole', 'MakingHole', 'MakingHole', 'Pressing', 'Pressing', 'Raising', 'Raising', 'Raising', 'Raising', 'Smoothing', 'Smoothing', 'Smoothing', 'Sponge', 'Tightening', 'Centering', 'Centering', 'Centering', 'Centering', 'Centering', 'Pressing', 'Pressing', 'Raising', 'Raising', 'Smoothing', 'Smoothing', 'Sponge', 'Sponge', 'Sponge', 'Tightening', 'Centering', 'Centering', 'Centering', 'Centering', 'Centering', 'Centering', 'MakingHole', 'Pressing', 'Raising', 'Raising', 'Raising', 'Smoothing', 'Sponge', 'Tightening', 'Tightening']\n"
     ]
    }
   ],
   "source": [
    "print(pred)\n",
    "print(y_true)"
   ]
  },
  {
   "cell_type": "code",
   "execution_count": 53,
   "metadata": {},
   "outputs": [
    {
     "name": "stdout",
     "output_type": "stream",
     "text": [
      "              precision    recall  f1-score   support\n",
      "\n",
      "   Centering     0.8000    0.8571    0.8276        14\n",
      "  MakingHole     0.8000    0.8000    0.8000         5\n",
      "    Pressing     0.8000    0.8000    0.8000        10\n",
      "     Raising     0.6000    0.6000    0.6000        10\n",
      "   Smoothing     0.5556    0.5556    0.5556         9\n",
      "      Sponge     0.8750    1.0000    0.9333         7\n",
      "  Tightening     1.0000    0.6000    0.7500         5\n",
      "\n",
      "    accuracy                         0.7500        60\n",
      "   macro avg     0.7758    0.7447    0.7524        60\n",
      "weighted avg     0.7554    0.7500    0.7478        60\n",
      "\n"
     ]
    }
   ],
   "source": [
    "print(classification_report(y_true, pred, target_names=CLabels, digits=4))"
   ]
  }
 ],
 "metadata": {
  "kernelspec": {
   "display_name": "Python 3.11.4 64-bit",
   "language": "python",
   "name": "python3"
  },
  "language_info": {
   "codemirror_mode": {
    "name": "ipython",
    "version": 3
   },
   "file_extension": ".py",
   "mimetype": "text/x-python",
   "name": "python",
   "nbconvert_exporter": "python",
   "pygments_lexer": "ipython3",
   "version": "3.11.4"
  },
  "orig_nbformat": 4,
  "vscode": {
   "interpreter": {
    "hash": "08fea2d413c9c3e8d7e26c1554f199589af5b33552a17c14a764eb7529af43dc"
   }
  }
 },
 "nbformat": 4,
 "nbformat_minor": 2
}
